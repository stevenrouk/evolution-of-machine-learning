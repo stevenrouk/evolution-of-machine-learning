{
 "cells": [
  {
   "cell_type": "code",
   "execution_count": 1,
   "metadata": {},
   "outputs": [],
   "source": [
    "%load_ext autoreload\n",
    "%autoreload 2"
   ]
  },
  {
   "cell_type": "code",
   "execution_count": 9,
   "metadata": {},
   "outputs": [],
   "source": [
    "from collections import Counter\n",
    "import glob\n",
    "import os\n",
    "import pickle\n",
    "import re\n",
    "import time\n",
    "\n",
    "import pandas as pd\n",
    "import numpy as np\n",
    "\n",
    "from sklearn.cluster import KMeans\n",
    "from sklearn.feature_extraction.text import TfidfVectorizer, CountVectorizer\n",
    "from sklearn.decomposition import NMF, LatentDirichletAllocation\n",
    "from gensim.models.ldamulticore import LdaMulticore\n",
    "from sklearn.metrics.pairwise import cosine_similarity, euclidean_distances\n",
    "from sklearn.manifold import TSNE\n",
    "\n",
    "import matplotlib.pyplot as plt\n",
    "plt.rcParams.update({'font.size': 16})\n",
    "\n",
    "NOTEBOOKS_DIR = os.path.abspath(os.getcwd())\n",
    "ROOT_DIR = os.path.split(NOTEBOOKS_DIR)[0]\n",
    "PROCESSED_DATA_DIR = os.path.join(ROOT_DIR, 'data', 'processed')\n",
    "\n",
    "FINAL_DF_FILEPATH = os.path.join(PROCESSED_DATA_DIR, 'final.csv')\n",
    "ML_ONLY_FILEPATH = os.path.join(PROCESSED_DATA_DIR, 'machine_learning_only.csv')"
   ]
  },
  {
   "cell_type": "code",
   "execution_count": 3,
   "metadata": {},
   "outputs": [],
   "source": [
    "df_ml = pd.read_csv(ML_ONLY_FILEPATH, encoding='utf-8')"
   ]
  },
  {
   "cell_type": "code",
   "execution_count": 5,
   "metadata": {},
   "outputs": [],
   "source": [
    "tfidf_vectorizer = TfidfVectorizer(stop_words='english')\n",
    "tfidf_ml = tfidf_vectorizer.fit_transform(df_ml['description'])\n",
    "features = np.array(tfidf_vectorizer.get_feature_names())\n",
    "km = KMeans(n_clusters=10, random_state=42)\n",
    "X_transformed = km.fit_transform(tfidf_ml)"
   ]
  },
  {
   "cell_type": "code",
   "execution_count": 7,
   "metadata": {},
   "outputs": [
    {
     "data": {
      "text/plain": [
       "array([[0.00000000e+00, 3.15767255e-04, 0.00000000e+00, ...,\n",
       "        0.00000000e+00, 0.00000000e+00, 0.00000000e+00],\n",
       "       [0.00000000e+00, 4.57660922e-04, 0.00000000e+00, ...,\n",
       "        0.00000000e+00, 0.00000000e+00, 0.00000000e+00],\n",
       "       [3.09075074e-05, 2.70653376e-04, 0.00000000e+00, ...,\n",
       "        0.00000000e+00, 0.00000000e+00, 0.00000000e+00],\n",
       "       ...,\n",
       "       [1.29918817e-04, 1.44855644e-03, 0.00000000e+00, ...,\n",
       "        0.00000000e+00, 2.47584791e-05, 0.00000000e+00],\n",
       "       [7.26436918e-05, 7.50976399e-04, 0.00000000e+00, ...,\n",
       "        0.00000000e+00, 0.00000000e+00, 0.00000000e+00],\n",
       "       [0.00000000e+00, 4.05268850e-04, 0.00000000e+00, ...,\n",
       "        0.00000000e+00, 0.00000000e+00, 0.00000000e+00]])"
      ]
     },
     "execution_count": 7,
     "metadata": {},
     "output_type": "execute_result"
    }
   ],
   "source": [
    "km.cluster_centers_"
   ]
  },
  {
   "cell_type": "code",
   "execution_count": 8,
   "metadata": {},
   "outputs": [
    {
     "name": "stdout",
     "output_type": "stream",
     "text": [
      "0\n",
      ">>> Spectral Multigraph Networks for Discovering and Fusing Relationships in\n",
      "  Molecules\n",
      "\n",
      ">>> The Geometric Block Model\n",
      "\n",
      ">>> Geometric Representations of Random Hypergraphs\n",
      "\n",
      ">>> Variational Recurrent Neural Networks for Graph Classification\n",
      "\n",
      ">>> Optimal Transport for structured data with application on graphs\n",
      "\n",
      "1\n",
      ">>> Prediction and Control with Temporal Segment Models\n",
      "\n",
      ">>> Sensory Anticipation of Optical Flow in Mobile Robotics\n",
      "\n",
      ">>> Metatrace Actor-Critic: Online Step-size Tuning by Meta-gradient Descent\n",
      "  for Reinforcement Learning Control\n",
      "\n",
      ">>> Learning from Scarce Experience\n",
      "\n",
      ">>> Exploration Potential\n",
      "\n",
      "2\n",
      ">>> Robust Maximization of Non-Submodular Objectives\n",
      "\n",
      ">>> Exponential inequalities for nonstationary Markov Chains\n",
      "\n",
      ">>> Some techniques in density estimation\n",
      "\n",
      ">>> Anomaly Detection via Graphical Lasso\n",
      "\n",
      ">>> Time-Sensitive Bandit Learning and Satisficing Thompson Sampling\n",
      "\n",
      "3\n",
      ">>> Inference in Hidden Markov Models with Explicit State Duration\n",
      "  Distributions\n",
      "\n",
      ">>> Sparse-posterior Gaussian Processes for general likelihoods\n",
      "\n",
      ">>> LSBN: A Large-Scale Bayesian Structure Learning Framework for Model\n",
      "  Averaging\n",
      "\n",
      ">>> Learning Model Reparametrizations: Implicit Variational Inference by\n",
      "  Fitting MCMC distributions\n",
      "\n",
      ">>> Geometric Matrix Completion with Deep Conditional Random Fields\n",
      "\n",
      "4\n",
      ">>> Online Model Estimation for Predictive Thermal Control of Buildings\n",
      "\n",
      ">>> Estimation of preterm birth markers with U-Net segmentation network\n",
      "\n",
      ">>> A Brief Introduction to Temporality and Causality\n",
      "\n",
      ">>> TAPER: Time-Aware Patient EHR Representation\n",
      "\n",
      ">>> Adversarial View-Consistent Learning for Monocular Depth Estimation\n",
      "\n",
      "5\n",
      ">>> It Takes (Only) Two: Adversarial Generator-Encoder Networks\n",
      "\n",
      ">>> Black-Box Attacks against RNN based Malware Detection Algorithms\n",
      "\n",
      ">>> Theoretically Principled Trade-off between Robustness and Accuracy\n",
      "\n",
      ">>> Mode Regularized Generative Adversarial Networks\n",
      "\n",
      ">>> Sufficient Conditions for Idealised Models to Have No Adversarial\n",
      "  Examples: a Theoretical and Empirical Study with Bayesian Neural Networks\n",
      "\n",
      "6\n",
      ">>> Coordinate Descent with Online Adaptation of Coordinate Frequencies\n",
      "\n",
      ">>> Online Multilinear Dictionary Learning\n",
      "\n",
      ">>> Entropy-SGD: Biasing Gradient Descent Into Wide Valleys\n",
      "\n",
      ">>> Complexity of Highly Parallel Non-Smooth Convex Optimization\n",
      "\n",
      ">>> Convergence Rates for Deterministic and Stochastic Subgradient Methods\n",
      "  Without Lipschitz Continuity\n",
      "\n",
      "7\n",
      ">>> Lessons from Building Acoustic Models with a Million Hours of Speech\n",
      "\n",
      ">>> Learning to learn via Self-Critique\n",
      "\n",
      ">>> Understanding Composition of Word Embeddings via Tensor Decomposition\n",
      "\n",
      ">>> Sketchforme: Composing Sketched Scenes from Text Descriptions for\n",
      "  Interactive Applications\n",
      "\n",
      ">>> On a Topic Model for Sentences\n",
      "\n",
      "8\n",
      ">>> MADE: Masked Autoencoder for Distribution Estimation\n",
      "\n",
      ">>> Continuous Learning of Context-dependent Processing in Neural Networks\n",
      "\n",
      ">>> Accumulation Bit-Width Scaling For Ultra-Low Precision Training Of Deep\n",
      "  Networks\n",
      "\n",
      ">>> Encoding Motion Primitives for Autonomous Vehicles using Virtual\n",
      "  Velocity Constraints and Neural Network Scheduling\n",
      "\n",
      ">>> Adversarially Trained Deep Neural Semantic Hashing Scheme for Subjective\n",
      "  Search in Fashion Inventory\n",
      "\n",
      "9\n",
      ">>> Spherical Wards clustering and generalized Voronoi diagrams\n",
      "\n",
      ">>> Quickshift++: Provably Good Initializations for Sample-Based Mean Shift\n",
      "\n",
      ">>> A Binary Optimization Approach for Constrained K-Means Clustering\n",
      "\n",
      ">>> Hierarchical Clustering via Spreading Metrics\n",
      "\n",
      ">>> Learning big Gaussian Bayesian networks: partition, estimation, and\n",
      "  fusion\n",
      "\n"
     ]
    }
   ],
   "source": [
    "# Let's look at some articles from each \"topic\" we've discovered.\n",
    "for i in set(km.labels_):\n",
    "    print(i)\n",
    "    in_label_group = km.labels_ == i\n",
    "    label_idxs = np.arange(len(in_label_group))[in_label_group]\n",
    "    np.random.shuffle(label_idxs)\n",
    "    for title in df_ml['title'].reset_index(drop=True)[label_idxs].head().values:\n",
    "        print(\">>>\", title)\n",
    "        print()"
   ]
  },
  {
   "cell_type": "code",
   "execution_count": 14,
   "metadata": {},
   "outputs": [],
   "source": [
    "random_1000_idxs = np.random.choice(range(48564), 1000)"
   ]
  },
  {
   "cell_type": "code",
   "execution_count": 10,
   "metadata": {},
   "outputs": [
    {
     "data": {
      "text/plain": [
       "(48564, 10)"
      ]
     },
     "execution_count": 10,
     "metadata": {},
     "output_type": "execute_result"
    }
   ],
   "source": [
    "X_transformed.shape"
   ]
  },
  {
   "cell_type": "code",
   "execution_count": 17,
   "metadata": {},
   "outputs": [],
   "source": [
    "from matplotlib import colors"
   ]
  },
  {
   "cell_type": "code",
   "execution_count": 18,
   "metadata": {},
   "outputs": [],
   "source": [
    "# Let's plot these in 2D space and look for patterns.\n",
    "X_embedded = TSNE(n_components=2).fit_transform(X_transformed[random_1000_idxs])\n",
    "x_vals = X_embedded[:, 0]\n",
    "y_vals = X_embedded[:, 1]"
   ]
  },
  {
   "cell_type": "code",
   "execution_count": 20,
   "metadata": {},
   "outputs": [
    {
     "data": {
      "image/png": "[encoded data removed]",
      "text/plain": [
       "<Figure size 720x720 with 1 Axes>"
      ]
     },
     "metadata": {
      "needs_background": "light"
     },
     "output_type": "display_data"
    }
   ],
   "source": [
    "plt.figure(figsize=(10, 10))\n",
    "color_seq = list(colors.TABLEAU_COLORS.items())[:len(km.labels_[random_1000_idxs])]\n",
    "for i in set(km.labels_[random_1000_idxs]):\n",
    "    in_label_group = km.labels_[random_1000_idxs] == i\n",
    "    label_idxs = np.arange(len(in_label_group))[in_label_group]\n",
    "    plt.scatter(x_vals[label_idxs], y_vals[label_idxs], c=color_seq[i][1], label=i)\n",
    "plt.legend()\n",
    "#plt.savefig(\"images/article-clusters-10.png\")\n",
    "plt.show()"
   ]
  },
  {
   "cell_type": "code",
   "execution_count": 32,
   "metadata": {},
   "outputs": [
    {
     "data": {
      "text/plain": [
       "array(['Is AmI (Attacks Meet Interpretability) Robust to Adversarial Examples?'],\n",
       "      dtype=object)"
      ]
     },
     "execution_count": 32,
     "metadata": {},
     "output_type": "execute_result"
    }
   ],
   "source": [
    "df_ml['title'].reset_index(drop=True)[random_1000_idxs[np.argwhere(x_vals > 80)][0]].values"
   ]
  },
  {
   "cell_type": "code",
   "execution_count": 33,
   "metadata": {},
   "outputs": [
    {
     "data": {
      "text/plain": [
       "array(['  No.\\n'], dtype=object)"
      ]
     },
     "execution_count": 33,
     "metadata": {},
     "output_type": "execute_result"
    }
   ],
   "source": [
    "df_ml['description'].reset_index(drop=True)[random_1000_idxs[np.argwhere(x_vals > 80)][0]].values"
   ]
  },
  {
   "cell_type": "markdown",
   "metadata": {},
   "source": [
    "Aha—the big outlier here is an empty description."
   ]
  },
  {
   "cell_type": "code",
   "execution_count": null,
   "metadata": {},
   "outputs": [],
   "source": []
  }
 ],
 "metadata": {
  "kernelspec": {
   "display_name": "Python 3",
   "language": "python",
   "name": "python3"
  },
  "language_info": {
   "codemirror_mode": {
    "name": "ipython",
    "version": 3
   },
   "file_extension": ".py",
   "mimetype": "text/x-python",
   "name": "python",
   "nbconvert_exporter": "python",
   "pygments_lexer": "ipython3",
   "version": "3.7.4"
  }
 },
 "nbformat": 4,
 "nbformat_minor": 2
}

{
 "cells": [
  {
   "cell_type": "code",
   "execution_count": 1,
   "metadata": {},
   "outputs": [],
   "source": [
    "%load_ext autoreload\n",
    "%autoreload 2"
   ]
  },
  {
   "cell_type": "code",
   "execution_count": 26,
   "metadata": {},
   "outputs": [],
   "source": [
    "from collections import Counter\n",
    "import os\n",
    "\n",
    "import pandas as pd\n",
    "import numpy as np\n",
    "\n",
    "import matplotlib.pyplot as plt\n",
    "\n",
    "NOTEBOOKS_DIR = os.path.abspath(os.getcwd())\n",
    "ROOT_DIR = os.path.split(NOTEBOOKS_DIR)[0]\n",
    "PROCESSED_DATA_DIR = os.path.join(ROOT_DIR, 'data', 'processed')\n",
    "\n",
    "FINAL_DF_FILEPATH = os.path.join(PROCESSED_DATA_DIR, 'final.csv')"
   ]
  },
  {
   "cell_type": "code",
   "execution_count": 3,
   "metadata": {},
   "outputs": [],
   "source": [
    "df = pd.read_csv(FINAL_DF_FILEPATH, encoding='utf-8')"
   ]
  },
  {
   "cell_type": "code",
   "execution_count": 5,
   "metadata": {},
   "outputs": [
    {
     "data": {
      "text/plain": [
       "math                55755\n",
       "physics:astro-ph    42702\n",
       "physics:cond-mat    39016\n",
       "cs                  16915\n",
       "physics:hep-ph      13188\n",
       "physics:physics     13064\n",
       "physics:quant-ph     8701\n",
       "physics:hep-th       7330\n",
       "physics:gr-qc        6760\n",
       "physics:hep-ex       4969\n",
       "physics:nucl-th      2828\n",
       "physics:hep-lat      2429\n",
       "nlin                 2246\n",
       "physics:nucl-ex      1890\n",
       "q-bio                1811\n",
       "stat                 1243\n",
       "physics:nlin          641\n",
       "q-fin                 493\n",
       "econ                   12\n",
       "Name: set_spec, dtype: int64"
      ]
     },
     "execution_count": 5,
     "metadata": {},
     "output_type": "execute_result"
    }
   ],
   "source": [
    "df['set_spec'].value_counts()"
   ]
  },
  {
   "cell_type": "code",
   "execution_count": 6,
   "metadata": {},
   "outputs": [],
   "source": [
    "df_cs = df[df['set_spec'] == 'cs']\n",
    "df_math = df[df['set_spec'] == 'math']"
   ]
  },
  {
   "cell_type": "code",
   "execution_count": 7,
   "metadata": {},
   "outputs": [
    {
     "data": {
      "text/html": [
       "<div>\n",
       "<style scoped>\n",
       "    .dataframe tbody tr th:only-of-type {\n",
       "        vertical-align: middle;\n",
       "    }\n",
       "\n",
       "    .dataframe tbody tr th {\n",
       "        vertical-align: top;\n",
       "    }\n",
       "\n",
       "    .dataframe thead th {\n",
       "        text-align: right;\n",
       "    }\n",
       "</style>\n",
       "<table border=\"1\" class=\"dataframe\">\n",
       "  <thead>\n",
       "    <tr style=\"text-align: right;\">\n",
       "      <th></th>\n",
       "      <th>identifier</th>\n",
       "      <th>url</th>\n",
       "      <th>title</th>\n",
       "      <th>set_spec</th>\n",
       "      <th>subjects</th>\n",
       "      <th>authors</th>\n",
       "      <th>dates</th>\n",
       "      <th>description</th>\n",
       "    </tr>\n",
       "  </thead>\n",
       "  <tbody>\n",
       "    <tr>\n",
       "      <td>2</td>\n",
       "      <td>oai:arXiv.org:0810.4423</td>\n",
       "      <td>http://arxiv.org/abs/0810.4423</td>\n",
       "      <td>Efficient Algorithmic Techniques for Several M...</td>\n",
       "      <td>cs</td>\n",
       "      <td>Computer Science - Computational Geometry,Comp...</td>\n",
       "      <td>Andreica, Mugurel Ionut</td>\n",
       "      <td>2008-10-24,2013-01-01</td>\n",
       "      <td>In this paper I present several novel, effic...</td>\n",
       "    </tr>\n",
       "    <tr>\n",
       "      <td>5</td>\n",
       "      <td>oai:arXiv.org:0810.4426</td>\n",
       "      <td>http://arxiv.org/abs/0810.4426</td>\n",
       "      <td>Camera distortion self-calibration using the p...</td>\n",
       "      <td>cs</td>\n",
       "      <td>Computer Science - Computer Vision and Pattern...</td>\n",
       "      <td>Rosten, Edward,Loveland, Rohan</td>\n",
       "      <td>2008-10-24,2009-01-04</td>\n",
       "      <td>In this paper we present a simple and robust...</td>\n",
       "    </tr>\n",
       "    <tr>\n",
       "      <td>10</td>\n",
       "      <td>oai:arXiv.org:0810.4431</td>\n",
       "      <td>http://arxiv.org/abs/0810.4431</td>\n",
       "      <td>An Eye Tracking Study into the Effects of Grap...</td>\n",
       "      <td>cs</td>\n",
       "      <td>Computer Science - Human-Computer Interaction</td>\n",
       "      <td>Huang, Weidong</td>\n",
       "      <td>2008-10-24</td>\n",
       "      <td>Graphs are typically visualized as node-link...</td>\n",
       "    </tr>\n",
       "    <tr>\n",
       "      <td>19</td>\n",
       "      <td>oai:arXiv.org:0810.4440</td>\n",
       "      <td>http://arxiv.org/abs/0810.4440</td>\n",
       "      <td>Randomization Adaptive Self-Stabilization</td>\n",
       "      <td>cs</td>\n",
       "      <td>Computer Science - Distributed, Parallel, and ...</td>\n",
       "      <td>Dolev, Shlomi,Tzachar, Nir</td>\n",
       "      <td>2008-10-24</td>\n",
       "      <td>We present a scheme to convert self-stabiliz...</td>\n",
       "    </tr>\n",
       "    <tr>\n",
       "      <td>21</td>\n",
       "      <td>oai:arXiv.org:0810.4442</td>\n",
       "      <td>http://arxiv.org/abs/0810.4442</td>\n",
       "      <td>Message passing resource allocation for the up...</td>\n",
       "      <td>cs</td>\n",
       "      <td>Computer Science - Information Theory</td>\n",
       "      <td>Abrardo, Andrea,Detti, Paolo,Moretti, Marco</td>\n",
       "      <td>2008-10-24</td>\n",
       "      <td>We propose a novel distributed resource allo...</td>\n",
       "    </tr>\n",
       "  </tbody>\n",
       "</table>\n",
       "</div>"
      ],
      "text/plain": [
       "                 identifier                             url  \\\n",
       "2   oai:arXiv.org:0810.4423  http://arxiv.org/abs/0810.4423   \n",
       "5   oai:arXiv.org:0810.4426  http://arxiv.org/abs/0810.4426   \n",
       "10  oai:arXiv.org:0810.4431  http://arxiv.org/abs/0810.4431   \n",
       "19  oai:arXiv.org:0810.4440  http://arxiv.org/abs/0810.4440   \n",
       "21  oai:arXiv.org:0810.4442  http://arxiv.org/abs/0810.4442   \n",
       "\n",
       "                                                title set_spec  \\\n",
       "2   Efficient Algorithmic Techniques for Several M...       cs   \n",
       "5   Camera distortion self-calibration using the p...       cs   \n",
       "10  An Eye Tracking Study into the Effects of Grap...       cs   \n",
       "19          Randomization Adaptive Self-Stabilization       cs   \n",
       "21  Message passing resource allocation for the up...       cs   \n",
       "\n",
       "                                             subjects  \\\n",
       "2   Computer Science - Computational Geometry,Comp...   \n",
       "5   Computer Science - Computer Vision and Pattern...   \n",
       "10      Computer Science - Human-Computer Interaction   \n",
       "19  Computer Science - Distributed, Parallel, and ...   \n",
       "21              Computer Science - Information Theory   \n",
       "\n",
       "                                        authors                  dates  \\\n",
       "2                       Andreica, Mugurel Ionut  2008-10-24,2013-01-01   \n",
       "5                Rosten, Edward,Loveland, Rohan  2008-10-24,2009-01-04   \n",
       "10                               Huang, Weidong             2008-10-24   \n",
       "19                   Dolev, Shlomi,Tzachar, Nir             2008-10-24   \n",
       "21  Abrardo, Andrea,Detti, Paolo,Moretti, Marco             2008-10-24   \n",
       "\n",
       "                                          description  \n",
       "2     In this paper I present several novel, effic...  \n",
       "5     In this paper we present a simple and robust...  \n",
       "10    Graphs are typically visualized as node-link...  \n",
       "19    We present a scheme to convert self-stabiliz...  \n",
       "21    We propose a novel distributed resource allo...  "
      ]
     },
     "execution_count": 7,
     "metadata": {},
     "output_type": "execute_result"
    }
   ],
   "source": [
    "df_cs.head()"
   ]
  },
  {
   "cell_type": "code",
   "execution_count": 11,
   "metadata": {},
   "outputs": [
    {
     "data": {
      "text/plain": [
       "{10, 21}"
      ]
     },
     "execution_count": 11,
     "metadata": {},
     "output_type": "execute_result"
    }
   ],
   "source": [
    "set(df_cs['dates'].map(len).values)"
   ]
  },
  {
   "cell_type": "code",
   "execution_count": 15,
   "metadata": {},
   "outputs": [
    {
     "data": {
      "text/plain": [
       "True     11984\n",
       "False     4931\n",
       "Name: dates, dtype: int64"
      ]
     },
     "execution_count": 15,
     "metadata": {},
     "output_type": "execute_result"
    }
   ],
   "source": [
    "# Most of our data only has one data, but quite a bit has two dates.\n",
    "(df_cs['dates'].map(len) == 10).value_counts()"
   ]
  },
  {
   "cell_type": "code",
   "execution_count": 18,
   "metadata": {},
   "outputs": [],
   "source": [
    "df_cs_dates = df_cs[df_cs['dates'].map(len) == 10]['dates'].values"
   ]
  },
  {
   "cell_type": "code",
   "execution_count": 22,
   "metadata": {},
   "outputs": [],
   "source": [
    "c = Counter(df_cs_dates)"
   ]
  },
  {
   "cell_type": "code",
   "execution_count": 25,
   "metadata": {},
   "outputs": [],
   "source": [
    "x = list(c.keys())\n",
    "y = [c[i] for i in x]"
   ]
  },
  {
   "cell_type": "code",
   "execution_count": 30,
   "metadata": {},
   "outputs": [
    {
     "name": "stdout",
     "output_type": "stream",
     "text": [
      "2007-03-31\n",
      "2010-10-27\n"
     ]
    }
   ],
   "source": [
    "print(min(x))\n",
    "print(max(x))"
   ]
  },
  {
   "cell_type": "code",
   "execution_count": 31,
   "metadata": {},
   "outputs": [],
   "source": [
    "descriptions = df_cs['description'].values"
   ]
  },
  {
   "cell_type": "code",
   "execution_count": 32,
   "metadata": {},
   "outputs": [
    {
     "data": {
      "text/plain": [
       "16915"
      ]
     },
     "execution_count": 32,
     "metadata": {},
     "output_type": "execute_result"
    }
   ],
   "source": [
    "len(descriptions)"
   ]
  },
  {
   "cell_type": "code",
   "execution_count": 33,
   "metadata": {},
   "outputs": [
    {
     "data": {
      "text/plain": [
       "'  In this paper I present several novel, efficient, algorithmic techniques for\\nsolving some multidimensional geometric data management and analysis problems.\\nThe techniques are based on several data structures from computational geometry\\n(e.g. segment tree and range tree) and on the well-known sweep-line method.\\n'"
      ]
     },
     "execution_count": 33,
     "metadata": {},
     "output_type": "execute_result"
    }
   ],
   "source": [
    "descriptions[0]"
   ]
  },
  {
   "cell_type": "code",
   "execution_count": 34,
   "metadata": {},
   "outputs": [
    {
     "data": {
      "text/plain": [
       "'  In this paper we present a simple and robust method for self-correction of\\ncamera distortion using single images of scenes which contain straight lines.\\nSince the most common distortion can be modelled as radial distortion, we\\nillustrate the method using the Harris radial distortion model, but the method\\nis applicable to any distortion model. The method is based on transforming the\\nedgels of the distorted image to a 1-D angular Hough space, and optimizing the\\ndistortion correction parameters which minimize the entropy of the\\ncorresponding normalized histogram. Properly corrected imagery will have fewer\\ncurved lines, and therefore less spread in Hough space. Since the method does\\nnot rely on any image structure beyond the existence of edgels sharing some\\ncommon orientations and does not use edge fitting, it is applicable to a wide\\nvariety of image types. For instance, it can be applied equally well to images\\nof texture with weak but dominant orientations, or images with strong vanishing\\npoints. Finally, the method is performed on both synthetic and real data\\nrevealing that it is particularly robust to noise.\\n'"
      ]
     },
     "execution_count": 34,
     "metadata": {},
     "output_type": "execute_result"
    }
   ],
   "source": [
    "descriptions[1]"
   ]
  },
  {
   "cell_type": "code",
   "execution_count": 35,
   "metadata": {},
   "outputs": [
    {
     "data": {
      "text/plain": [
       "'  Graphs are typically visualized as node-link diagrams. Although there is a\\nfair amount of research focusing on crossing minimization to improve\\nreadability, little attention has been paid on how to handle crossings when\\nthey are an essential part of the final visualizations. This requires us to\\nunderstand how people read graphs and how crossings affect reading performance.\\n  As an initial step to this end, a preliminary eye tracking experiment was\\nconducted. The specific purpose of this experiment was to test the effects of\\ncrossing angles and geometric-path tendency on eye movements and performance.\\nSixteen subjects performed both path search and node locating tasks with six\\ndrawings. The results showed that small angles can slow down and trigger extra\\neye movements, causing delays for path search tasks, whereas crossings have\\nlittle impact on node locating tasks. Geometric-path tendency indicates that a\\npath between two nodes can become harder to follow when many branches of the\\npath go toward the target node. The insights obtained are discussed with a view\\nto further confirmation in future work.\\n'"
      ]
     },
     "execution_count": 35,
     "metadata": {},
     "output_type": "execute_result"
    }
   ],
   "source": [
    "descriptions[2]"
   ]
  },
  {
   "cell_type": "code",
   "execution_count": null,
   "metadata": {},
   "outputs": [],
   "source": []
  }
 ],
 "metadata": {
  "kernelspec": {
   "display_name": "Python 3",
   "language": "python",
   "name": "python3"
  },
  "language_info": {
   "codemirror_mode": {
    "name": "ipython",
    "version": 3
   },
   "file_extension": ".py",
   "mimetype": "text/x-python",
   "name": "python",
   "nbconvert_exporter": "python",
   "pygments_lexer": "ipython3",
   "version": "3.7.4"
  }
 },
 "nbformat": 4,
 "nbformat_minor": 2
}

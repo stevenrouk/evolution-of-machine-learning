{
 "cells": [
  {
   "cell_type": "code",
   "execution_count": 1,
   "metadata": {},
   "outputs": [],
   "source": [
    "%load_ext autoreload\n",
    "%autoreload 2"
   ]
  },
  {
   "cell_type": "code",
   "execution_count": 13,
   "metadata": {},
   "outputs": [],
   "source": [
    "from collections import Counter\n",
    "import glob\n",
    "import os\n",
    "import pickle\n",
    "import re\n",
    "import time\n",
    "\n",
    "import pandas as pd\n",
    "import numpy as np\n",
    "\n",
    "from sklearn.cluster import KMeans\n",
    "from sklearn.feature_extraction.text import TfidfVectorizer, CountVectorizer\n",
    "from sklearn.decomposition import NMF, LatentDirichletAllocation\n",
    "from gensim.models.ldamulticore import LdaMulticore\n",
    "from sklearn.metrics.pairwise import cosine_similarity, euclidean_distances\n",
    "from sklearn.manifold import TSNE\n",
    "from sklearn.naive_bayes import MultinomialNB\n",
    "from sklearn.model_selection import train_test_split\n",
    "\n",
    "import matplotlib.pyplot as plt\n",
    "plt.rcParams.update({'font.size': 16})\n",
    "\n",
    "NOTEBOOKS_DIR = os.path.abspath(os.getcwd())\n",
    "ROOT_DIR = os.path.split(NOTEBOOKS_DIR)[0]\n",
    "PROCESSED_DATA_DIR = os.path.join(ROOT_DIR, 'data', 'processed')\n",
    "\n",
    "FINAL_DF_FILEPATH = os.path.join(PROCESSED_DATA_DIR, 'final.csv')\n",
    "ML_ONLY_FILEPATH = os.path.join(PROCESSED_DATA_DIR, 'machine_learning_only.csv')"
   ]
  },
  {
   "cell_type": "code",
   "execution_count": 4,
   "metadata": {},
   "outputs": [],
   "source": [
    "df = pd.read_csv(FINAL_DF_FILEPATH, encoding='utf-8')\n",
    "df_ml = pd.read_csv(ML_ONLY_FILEPATH, encoding='utf-8')"
   ]
  },
  {
   "cell_type": "markdown",
   "metadata": {},
   "source": [
    "# Can we predict the macro category of a paper? What about micro-categories?\n",
    "## Starting with macro categories, on the full dataset"
   ]
  },
  {
   "cell_type": "code",
   "execution_count": 6,
   "metadata": {},
   "outputs": [],
   "source": [
    "df['macro_set'] = df['set_spec'].apply(lambda x: 'physics' if 'physics' in x else x)"
   ]
  },
  {
   "cell_type": "code",
   "execution_count": 7,
   "metadata": {},
   "outputs": [
    {
     "data": {
      "text/html": [
       "<div>\n",
       "<style scoped>\n",
       "    .dataframe tbody tr th:only-of-type {\n",
       "        vertical-align: middle;\n",
       "    }\n",
       "\n",
       "    .dataframe tbody tr th {\n",
       "        vertical-align: top;\n",
       "    }\n",
       "\n",
       "    .dataframe thead th {\n",
       "        text-align: right;\n",
       "    }\n",
       "</style>\n",
       "<table border=\"1\" class=\"dataframe\">\n",
       "  <thead>\n",
       "    <tr style=\"text-align: right;\">\n",
       "      <th></th>\n",
       "      <th>identifier</th>\n",
       "      <th>url</th>\n",
       "      <th>title</th>\n",
       "      <th>set_spec</th>\n",
       "      <th>subjects</th>\n",
       "      <th>authors</th>\n",
       "      <th>dates</th>\n",
       "      <th>description</th>\n",
       "      <th>macro_set</th>\n",
       "    </tr>\n",
       "  </thead>\n",
       "  <tbody>\n",
       "    <tr>\n",
       "      <td>0</td>\n",
       "      <td>oai:arXiv.org:1311.5328</td>\n",
       "      <td>http://arxiv.org/abs/1311.5328</td>\n",
       "      <td>Quenched invariance principle for a long-range...</td>\n",
       "      <td>math</td>\n",
       "      <td>Mathematics - Probability,Primary 60K37, 60F17...</td>\n",
       "      <td>Zhongyang, Zhang,Li-Xin, Zhang</td>\n",
       "      <td>2013-11-21,2016-05-17</td>\n",
       "      <td>We consider a random walk on a random graph ...</td>\n",
       "      <td>math</td>\n",
       "    </tr>\n",
       "    <tr>\n",
       "      <td>1</td>\n",
       "      <td>oai:arXiv.org:1311.5329</td>\n",
       "      <td>http://arxiv.org/abs/1311.5329</td>\n",
       "      <td>Remarks on the energy release rate for an anti...</td>\n",
       "      <td>math</td>\n",
       "      <td>Mathematical Physics</td>\n",
       "      <td>Morini, L.,Piccolroaz, A.,Mishuris, G.</td>\n",
       "      <td>2013-11-21,2014-04-10</td>\n",
       "      <td>This paper is concerned with the steady-stat...</td>\n",
       "      <td>math</td>\n",
       "    </tr>\n",
       "    <tr>\n",
       "      <td>2</td>\n",
       "      <td>oai:arXiv.org:1311.5330</td>\n",
       "      <td>http://arxiv.org/abs/1311.5330</td>\n",
       "      <td>Color spin wave functions of heavy tetraquark ...</td>\n",
       "      <td>physics:nucl-th</td>\n",
       "      <td>Nuclear Theory</td>\n",
       "      <td>Park, Woosung,Lee, Su Houng</td>\n",
       "      <td>2013-11-21</td>\n",
       "      <td>Using the variational method, we calculate t...</td>\n",
       "      <td>physics</td>\n",
       "    </tr>\n",
       "    <tr>\n",
       "      <td>3</td>\n",
       "      <td>oai:arXiv.org:1311.5331</td>\n",
       "      <td>http://arxiv.org/abs/1311.5331</td>\n",
       "      <td>Stability, Electronic and Magnetic properties ...</td>\n",
       "      <td>physics:cond-mat</td>\n",
       "      <td>Condensed Matter - Materials Science</td>\n",
       "      <td>Zhang, Jian-Min,Ming, Wenmei,Huang, Zhigao,Liu...</td>\n",
       "      <td>2013-11-21</td>\n",
       "      <td>Magnetic interaction with the gapless surfac...</td>\n",
       "      <td>physics</td>\n",
       "    </tr>\n",
       "    <tr>\n",
       "      <td>4</td>\n",
       "      <td>oai:arXiv.org:1311.5332</td>\n",
       "      <td>http://arxiv.org/abs/1311.5332</td>\n",
       "      <td>On a Conjecture of Erd\\H{o}s, Gallai, and Tuza</td>\n",
       "      <td>math</td>\n",
       "      <td>Mathematics - Combinatorics,05C70</td>\n",
       "      <td>Puleo, Gregory J.</td>\n",
       "      <td>2013-11-21,2014-10-13</td>\n",
       "      <td>Erd\\H{o}s, Gallai, and Tuza posed the follow...</td>\n",
       "      <td>math</td>\n",
       "    </tr>\n",
       "  </tbody>\n",
       "</table>\n",
       "</div>"
      ],
      "text/plain": [
       "                identifier                             url  \\\n",
       "0  oai:arXiv.org:1311.5328  http://arxiv.org/abs/1311.5328   \n",
       "1  oai:arXiv.org:1311.5329  http://arxiv.org/abs/1311.5329   \n",
       "2  oai:arXiv.org:1311.5330  http://arxiv.org/abs/1311.5330   \n",
       "3  oai:arXiv.org:1311.5331  http://arxiv.org/abs/1311.5331   \n",
       "4  oai:arXiv.org:1311.5332  http://arxiv.org/abs/1311.5332   \n",
       "\n",
       "                                               title          set_spec  \\\n",
       "0  Quenched invariance principle for a long-range...              math   \n",
       "1  Remarks on the energy release rate for an anti...              math   \n",
       "2  Color spin wave functions of heavy tetraquark ...   physics:nucl-th   \n",
       "3  Stability, Electronic and Magnetic properties ...  physics:cond-mat   \n",
       "4     On a Conjecture of Erd\\H{o}s, Gallai, and Tuza              math   \n",
       "\n",
       "                                            subjects  \\\n",
       "0  Mathematics - Probability,Primary 60K37, 60F17...   \n",
       "1                               Mathematical Physics   \n",
       "2                                     Nuclear Theory   \n",
       "3               Condensed Matter - Materials Science   \n",
       "4                  Mathematics - Combinatorics,05C70   \n",
       "\n",
       "                                             authors                  dates  \\\n",
       "0                     Zhongyang, Zhang,Li-Xin, Zhang  2013-11-21,2016-05-17   \n",
       "1             Morini, L.,Piccolroaz, A.,Mishuris, G.  2013-11-21,2014-04-10   \n",
       "2                        Park, Woosung,Lee, Su Houng             2013-11-21   \n",
       "3  Zhang, Jian-Min,Ming, Wenmei,Huang, Zhigao,Liu...             2013-11-21   \n",
       "4                                  Puleo, Gregory J.  2013-11-21,2014-10-13   \n",
       "\n",
       "                                         description macro_set  \n",
       "0    We consider a random walk on a random graph ...      math  \n",
       "1    This paper is concerned with the steady-stat...      math  \n",
       "2    Using the variational method, we calculate t...   physics  \n",
       "3    Magnetic interaction with the gapless surfac...   physics  \n",
       "4    Erd\\H{o}s, Gallai, and Tuza posed the follow...      math  "
      ]
     },
     "execution_count": 7,
     "metadata": {},
     "output_type": "execute_result"
    }
   ],
   "source": [
    "df.head()"
   ]
  },
  {
   "cell_type": "code",
   "execution_count": 8,
   "metadata": {},
   "outputs": [],
   "source": [
    "tfidf_vectorizer = TfidfVectorizer(stop_words='english')\n",
    "tfidf_ml = tfidf_vectorizer.fit_transform(df['description'])\n",
    "features = np.array(tfidf_vectorizer.get_feature_names())"
   ]
  },
  {
   "cell_type": "code",
   "execution_count": 11,
   "metadata": {},
   "outputs": [],
   "source": [
    "tfidf = tfidf_ml"
   ]
  },
  {
   "cell_type": "code",
   "execution_count": 9,
   "metadata": {},
   "outputs": [
    {
     "data": {
      "text/plain": [
       "(1603370, 526112)"
      ]
     },
     "execution_count": 9,
     "metadata": {},
     "output_type": "execute_result"
    }
   ],
   "source": [
    "tfidf.shape"
   ]
  },
  {
   "cell_type": "code",
   "execution_count": 10,
   "metadata": {},
   "outputs": [
    {
     "data": {
      "text/plain": [
       "(1603370, 9)"
      ]
     },
     "execution_count": 10,
     "metadata": {},
     "output_type": "execute_result"
    }
   ],
   "source": [
    "df.shape"
   ]
  },
  {
   "cell_type": "code",
   "execution_count": 14,
   "metadata": {},
   "outputs": [],
   "source": [
    "X = tfidf\n",
    "y = df['macro_set'].values\n",
    "\n",
    "X_train, X_test, y_train, y_test = train_test_split(X, y, random_state=42)"
   ]
  },
  {
   "cell_type": "code",
   "execution_count": 16,
   "metadata": {},
   "outputs": [],
   "source": [
    "nb = MultinomialNB()"
   ]
  },
  {
   "cell_type": "code",
   "execution_count": 18,
   "metadata": {},
   "outputs": [
    {
     "data": {
      "text/plain": [
       "MultinomialNB(alpha=1.0, class_prior=None, fit_prior=True)"
      ]
     },
     "execution_count": 18,
     "metadata": {},
     "output_type": "execute_result"
    }
   ],
   "source": [
    "nb.fit(X_train, y_train)"
   ]
  },
  {
   "cell_type": "code",
   "execution_count": 22,
   "metadata": {},
   "outputs": [],
   "source": [
    "y_pred = nb.predict(X_test)"
   ]
  },
  {
   "cell_type": "code",
   "execution_count": 20,
   "metadata": {},
   "outputs": [],
   "source": [
    "from sklearn.metrics import accuracy_score"
   ]
  },
  {
   "cell_type": "code",
   "execution_count": 23,
   "metadata": {},
   "outputs": [
    {
     "data": {
      "text/plain": [
       "0.8940857143569927"
      ]
     },
     "execution_count": 23,
     "metadata": {},
     "output_type": "execute_result"
    }
   ],
   "source": [
    "accuracy_score(y_test, y_pred)"
   ]
  },
  {
   "cell_type": "code",
   "execution_count": 25,
   "metadata": {},
   "outputs": [
    {
     "data": {
      "text/plain": [
       "Counter({'physics': 235783,\n",
       "         'math': 93703,\n",
       "         'cs': 59153,\n",
       "         'nlin': 3271,\n",
       "         'eess': 870,\n",
       "         'stat': 3774,\n",
       "         'q-bio': 2865,\n",
       "         'econ': 312,\n",
       "         'q-fin': 1112})"
      ]
     },
     "execution_count": 25,
     "metadata": {},
     "output_type": "execute_result"
    }
   ],
   "source": [
    "Counter(y_test)"
   ]
  },
  {
   "cell_type": "code",
   "execution_count": 26,
   "metadata": {},
   "outputs": [
    {
     "data": {
      "text/plain": [
       "Counter({'physics': 244052,\n",
       "         'math': 92744,\n",
       "         'cs': 64033,\n",
       "         'q-bio': 6,\n",
       "         'stat': 5,\n",
       "         'nlin': 3})"
      ]
     },
     "execution_count": 26,
     "metadata": {},
     "output_type": "execute_result"
    }
   ],
   "source": [
    "Counter(y_pred)"
   ]
  },
  {
   "cell_type": "code",
   "execution_count": 32,
   "metadata": {},
   "outputs": [
    {
     "name": "stdout",
     "output_type": "stream",
     "text": [
      "0.5882178309213333\n",
      "0.8219826715197721\n",
      "0.9695541645981095\n"
     ]
    }
   ],
   "source": [
    "print(235783 / sum(Counter(y_test).values()))\n",
    "print((235783 + 93703) / sum(Counter(y_test).values()))\n",
    "print((235783 + 93703 + 59153) / sum(Counter(y_test).values()))"
   ]
  },
  {
   "cell_type": "markdown",
   "metadata": {},
   "source": [
    "## Let's try lumping all the non-physics/math/cs papers into one category, and then see how it performs"
   ]
  },
  {
   "cell_type": "code",
   "execution_count": 34,
   "metadata": {},
   "outputs": [],
   "source": [
    "df['macro_set_reduced'] = df['macro_set'].apply(lambda x: x if x in ('physics', 'math', 'cs') else 'other')"
   ]
  },
  {
   "cell_type": "code",
   "execution_count": 35,
   "metadata": {},
   "outputs": [
    {
     "data": {
      "text/plain": [
       "physics    942170\n",
       "math       376287\n",
       "cs         236782\n",
       "other       48131\n",
       "Name: macro_set_reduced, dtype: int64"
      ]
     },
     "execution_count": 35,
     "metadata": {},
     "output_type": "execute_result"
    }
   ],
   "source": [
    "df['macro_set_reduced'].value_counts()"
   ]
  },
  {
   "cell_type": "code",
   "execution_count": 36,
   "metadata": {},
   "outputs": [],
   "source": [
    "y_alt = df['macro_set_reduced'].values\n",
    "y_alt_train, y_alt_test = train_test_split(y_alt, random_state=42)"
   ]
  },
  {
   "cell_type": "code",
   "execution_count": 59,
   "metadata": {},
   "outputs": [],
   "source": [
    "nb_alt = MultinomialNB()\n",
    "nb_alt.fit(X_train, y_alt_train)\n",
    "y_alt_pred = nb_alt.predict(X_test)"
   ]
  },
  {
   "cell_type": "code",
   "execution_count": 60,
   "metadata": {},
   "outputs": [
    {
     "data": {
      "text/plain": [
       "0.8946869472586524"
      ]
     },
     "execution_count": 60,
     "metadata": {},
     "output_type": "execute_result"
    }
   ],
   "source": [
    "accuracy_score(y_alt_test, y_alt_pred)"
   ]
  },
  {
   "cell_type": "code",
   "execution_count": 61,
   "metadata": {},
   "outputs": [],
   "source": [
    "incorrect_idxs = y_alt_pred != y_alt_test"
   ]
  },
  {
   "cell_type": "code",
   "execution_count": 62,
   "metadata": {},
   "outputs": [],
   "source": [
    "incorrect = np.array(list(zip(list(y_alt_pred), list(y_alt_test))))[incorrect_idxs]"
   ]
  },
  {
   "cell_type": "code",
   "execution_count": 63,
   "metadata": {},
   "outputs": [],
   "source": [
    "incorrect_strings = []\n",
    "for row in incorrect:\n",
    "    incorrect_strings.append(' -- '.join(row))"
   ]
  },
  {
   "cell_type": "code",
   "execution_count": 64,
   "metadata": {},
   "outputs": [
    {
     "name": "stdout",
     "output_type": "stream",
     "text": [
      "predicted -- actual: count\n"
     ]
    },
    {
     "data": {
      "text/plain": [
       "[('physics -- math', 9723),\n",
       " ('cs -- other', 5686),\n",
       " ('math -- cs', 5604),\n",
       " ('math -- physics', 5068),\n",
       " ('physics -- other', 4719),\n",
       " ('cs -- physics', 3756),\n",
       " ('cs -- math', 3448),\n",
       " ('physics -- cs', 2614),\n",
       " ('math -- other', 1525),\n",
       " ('other -- physics', 46),\n",
       " ('other -- math', 15),\n",
       " ('other -- cs', 10)]"
      ]
     },
     "execution_count": 64,
     "metadata": {},
     "output_type": "execute_result"
    }
   ],
   "source": [
    "print('predicted -- actual: count')\n",
    "Counter(incorrect_strings).most_common(100)"
   ]
  },
  {
   "cell_type": "markdown",
   "metadata": {},
   "source": [
    "# Let's try oversampling the minority classes"
   ]
  },
  {
   "cell_type": "code",
   "execution_count": 65,
   "metadata": {},
   "outputs": [],
   "source": [
    "from imblearn.over_sampling import RandomOverSampler"
   ]
  },
  {
   "cell_type": "code",
   "execution_count": 66,
   "metadata": {},
   "outputs": [],
   "source": [
    "ros = RandomOverSampler(random_state=42)"
   ]
  },
  {
   "cell_type": "code",
   "execution_count": 67,
   "metadata": {},
   "outputs": [],
   "source": [
    "X_resampled, y_alt_resampled = ros.fit_resample(X, y_alt)"
   ]
  },
  {
   "cell_type": "code",
   "execution_count": 69,
   "metadata": {},
   "outputs": [],
   "source": [
    "X_res_train, X_res_test, y_alt_res_train, y_alt_res_test = train_test_split(X_resampled, y_alt_resampled, random_state=42)"
   ]
  },
  {
   "cell_type": "code",
   "execution_count": 70,
   "metadata": {},
   "outputs": [],
   "source": [
    "nb_res_alt = MultinomialNB()\n",
    "nb_res_alt.fit(X_res_train, y_alt_res_train)\n",
    "y_alt_res_pred = nb_alt.predict(X_res_test)"
   ]
  },
  {
   "cell_type": "code",
   "execution_count": 71,
   "metadata": {},
   "outputs": [
    {
     "data": {
      "text/plain": [
       "0.6788849146120127"
      ]
     },
     "execution_count": 71,
     "metadata": {},
     "output_type": "execute_result"
    }
   ],
   "source": [
    "accuracy_score(y_alt_res_test, y_alt_res_pred)"
   ]
  },
  {
   "cell_type": "markdown",
   "metadata": {},
   "source": [
    "Well that didn't work! When I get more time, I'll try SMOTE or something. And also write some functions to be able to check the misclassified labels more easily for different models."
   ]
  },
  {
   "cell_type": "code",
   "execution_count": null,
   "metadata": {},
   "outputs": [],
   "source": []
  }
 ],
 "metadata": {
  "kernelspec": {
   "display_name": "Python 3",
   "language": "python",
   "name": "python3"
  },
  "language_info": {
   "codemirror_mode": {
    "name": "ipython",
    "version": 3
   },
   "file_extension": ".py",
   "mimetype": "text/x-python",
   "name": "python",
   "nbconvert_exporter": "python",
   "pygments_lexer": "ipython3",
   "version": "3.7.4"
  }
 },
 "nbformat": 4,
 "nbformat_minor": 2
}
